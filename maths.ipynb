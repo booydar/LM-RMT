{
 "cells": [
  {
   "cell_type": "code",
   "execution_count": 2,
   "metadata": {},
   "outputs": [
    {
     "name": "stdout",
     "output_type": "stream",
     "text": [
      "Traceback (most recent call last):\n",
      "  File \"/home/ayd98/anaconda3/envs/cudaenv/lib/python3.9/runpy.py\", line 197, in _run_module_as_main\n",
      "    return _run_code(code, main_globals, None,\n",
      "  File \"/home/ayd98/anaconda3/envs/cudaenv/lib/python3.9/runpy.py\", line 87, in _run_code\n",
      "    exec(code, run_globals)\n",
      "  File \"/home/ayd98/anaconda3/envs/cudaenv/lib/python3.9/site-packages/mathematics_dataset/generate.py\", line 29, in <module>\n",
      "    from mathematics_dataset.modules import modules\n",
      "  File \"/home/ayd98/anaconda3/envs/cudaenv/lib/python3.9/site-packages/mathematics_dataset/modules/modules.py\", line 21, in <module>\n",
      "    from mathematics_dataset.modules import algebra\n",
      "  File \"/home/ayd98/anaconda3/envs/cudaenv/lib/python3.9/site-packages/mathematics_dataset/modules/algebra.py\", line 25, in <module>\n",
      "    from mathematics_dataset import example\n",
      "  File \"/home/ayd98/anaconda3/envs/cudaenv/lib/python3.9/site-packages/mathematics_dataset/example.py\", line 23, in <module>\n",
      "    from mathematics_dataset.util import composition\n",
      "  File \"/home/ayd98/anaconda3/envs/cudaenv/lib/python3.9/site-packages/mathematics_dataset/util/composition.py\", line 28, in <module>\n",
      "    from mathematics_dataset.sample import polynomials\n",
      "  File \"/home/ayd98/anaconda3/envs/cudaenv/lib/python3.9/site-packages/mathematics_dataset/sample/polynomials.py\", line 33, in <module>\n",
      "    from sympy.solvers.diophantine import base_solution_linear as diophantine_solve_linear_2d\n",
      "ImportError: cannot import name 'base_solution_linear' from 'sympy.solvers.diophantine' (/home/ayd98/anaconda3/envs/cudaenv/lib/python3.9/site-packages/sympy/solvers/diophantine/__init__.py)\n"
     ]
    }
   ],
   "source": [
    "!python -m mathematics_dataset.generate --filter=linear_1d"
   ]
  },
  {
   "cell_type": "code",
   "execution_count": 1,
   "metadata": {},
   "outputs": [
    {
     "name": "stdout",
     "output_type": "stream",
     "text": [
      "Collecting mathematics_dataset\n",
      "  Downloading mathematics_dataset-1.0.1-py3-none-any.whl (93 kB)\n",
      "\u001b[K     |████████████████████████████████| 93 kB 973 kB/s eta 0:00:01\n",
      "\u001b[?25hRequirement already satisfied: six in /home/ayd98/anaconda3/envs/cudaenv/lib/python3.9/site-packages (from mathematics_dataset) (1.16.0)\n",
      "Requirement already satisfied: absl-py>=0.1.0 in /home/ayd98/anaconda3/envs/cudaenv/lib/python3.9/site-packages (from mathematics_dataset) (0.13.0)\n",
      "Requirement already satisfied: numpy>=1.10 in /home/ayd98/anaconda3/envs/cudaenv/lib/python3.9/site-packages (from mathematics_dataset) (1.20.2)\n",
      "Collecting sympy>=1.2\n",
      "  Downloading sympy-1.9-py3-none-any.whl (6.2 MB)\n",
      "\u001b[K     |████████████████████████████████| 6.2 MB 6.4 MB/s eta 0:00:01     |██████████▏                     | 2.0 MB 6.4 MB/s eta 0:00:01     |████████████████▍               | 3.2 MB 6.4 MB/s eta 0:00:01\n",
      "\u001b[?25hCollecting mpmath>=0.19\n",
      "  Downloading mpmath-1.2.1-py3-none-any.whl (532 kB)\n",
      "\u001b[K     |████████████████████████████████| 532 kB 23.5 MB/s eta 0:00:01\n",
      "\u001b[?25hInstalling collected packages: mpmath, sympy, mathematics-dataset\n",
      "Successfully installed mathematics-dataset-1.0.1 mpmath-1.2.1 sympy-1.9\n",
      "Note: you may need to restart the kernel to use updated packages.\n"
     ]
    }
   ],
   "source": [
    "pip install mathematics_dataset"
   ]
  }
 ],
 "metadata": {
  "interpreter": {
   "hash": "3ad594eba56fa4d30e478d0eb2c02077805d7e655fd2c7b71fc86bcad8bf7b09"
  },
  "kernelspec": {
   "display_name": "Python 3.9.0 64-bit ('cudaenv': conda)",
   "language": "python",
   "name": "python3"
  },
  "language_info": {
   "codemirror_mode": {
    "name": "ipython",
    "version": 3
   },
   "file_extension": ".py",
   "mimetype": "text/x-python",
   "name": "python",
   "nbconvert_exporter": "python",
   "pygments_lexer": "ipython3",
   "version": "3.9.0"
  },
  "orig_nbformat": 4
 },
 "nbformat": 4,
 "nbformat_minor": 2
}
